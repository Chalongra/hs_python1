{
 "cells": [
  {
   "cell_type": "code",
   "execution_count": 3,
   "metadata": {},
   "outputs": [
    {
     "name": "stdout",
     "output_type": "stream",
     "text": [
      "9\n"
     ]
    }
   ],
   "source": [
    "first_number = int(input())\n",
    "second_number = int(input())\n",
    "added_result = first_number + second_number\n",
    "print(added_result)\n",
    "\n"
   ]
  },
  {
   "cell_type": "code",
   "execution_count": 18,
   "metadata": {},
   "outputs": [
    {
     "name": "stdout",
     "output_type": "stream",
     "text": [
      "50.0\n"
     ]
    }
   ],
   "source": [
    "degree_celsius = float(input(\"degree celsius\"))\n",
    "degree_fahrenheit = ((degree_celsius*9)/5)+32\n",
    "print(added_result)"
   ]
  },
  {
   "cell_type": "code",
   "execution_count": 14,
   "metadata": {},
   "outputs": [
    {
     "name": "stdout",
     "output_type": "stream",
     "text": [
      "6.6\n"
     ]
    }
   ],
   "source": [
    "first_input = float(input())\n",
    "second_input = float(input())\n",
    "result = (first_input + second_input)\n",
    "print(result)"
   ]
  },
  {
   "cell_type": "code",
   "execution_count": 24,
   "metadata": {},
   "outputs": [
    {
     "name": "stdout",
     "output_type": "stream",
     "text": [
      "Are you 20 ?\n"
     ]
    }
   ],
   "source": [
    "age = input()\n",
    "print(\"Are you\", age, \"?\")"
   ]
  },
  {
   "cell_type": "code",
   "execution_count": 22,
   "metadata": {},
   "outputs": [
    {
     "name": "stdout",
     "output_type": "stream",
     "text": [
      "Hello, Baipai\n"
     ]
    }
   ],
   "source": [
    "name = input(\"nickname\")\n",
    "print(\"Hello,\", name)"
   ]
  },
  {
   "cell_type": "code",
   "execution_count": 26,
   "metadata": {},
   "outputs": [
    {
     "name": "stdout",
     "output_type": "stream",
     "text": [
      "25\n"
     ]
    }
   ],
   "source": [
    "current_age = int(input(\"age\"))\n",
    "age_in_five_year = (current_age + 5)\n",
    "print(age_in_five_year)"
   ]
  },
  {
   "cell_type": "code",
   "execution_count": 7,
   "metadata": {},
   "outputs": [],
   "source": [
    "# importing library\n",
    "import turtle\n",
    "# Set up the turtle screen\n",
    "screen = turtle.Screen()\n",
    "screen.bgcolor(\"lightblue\")  # Background color\n",
    "\n",
    "# Create a turtle object\n",
    "my_turtle = turtle.Turtle()\n",
    "my_turtle.shape(\"turtle\")\n",
    "my_turtle.color(\"green\")\n",
    "my_turtle.speed(5)  # Speed of the turtle (1 slowest, 10 fastest)\n",
    "\n",
    "# Start drawing\n",
    "my_turtle.penup()    # Lift the pen to move without drawing\n",
    "my_turtle.goto(-100, 100)  # Move to a starting position\n",
    "my_turtle.pendown()  # Put the pen down to start drawing\n",
    "# Draw a square with colored sides\n",
    "for i in range(4):\n",
    "    my_turtle.forward(100)    # Move forward by 100 units\n",
    "    my_turtle.right(90)       # Turn right by 90 degrees\n",
    "\n",
    "# Move to a new position for a different shape\n",
    "my_turtle.penup()\n",
    "my_turtle.goto(150, 150)\n",
    "my_turtle.pendown()\n",
    "\n",
    "# Draw a star\n",
    "for i in range(5):\n",
    "    my_turtle.forward(150)    # Move forward by 150 units\n",
    "    my_turtle.right(144)      # Turn right by 144 degrees to form a star\n",
    "\n",
    "# Move again to draw a circle\n",
    "my_turtle.penup()\n",
    "my_turtle.goto(-150, -150)\n",
    "my_turtle.pendown()\n",
    "# Draw a circle\n",
    "my_turtle.circle(50)          # Draw a circle with a radius of 50\n",
    "\n",
    "# Move and draw another square inside the first square\n",
    "my_turtle.penup()\n",
    "my_turtle.goto(-90, 90)\n",
    "my_turtle.pendown()\n",
    "\n",
    "# Draw a smaller square\n",
    "for i in range(4):\n",
    "    my_turtle.forward(80)     # Move forward by 80 units\n",
    "    my_turtle.right(90)       # Turn right by 90 degrees\n",
    "\n",
    "# Finish up\n",
    "my_turtle.penup()\n",
    "my_turtle.goto(0, 0)\n",
    "my_turtle.pendown()\n",
    "my_turtle.write(\"Turtle Art!\", align=\"center\", font=(\"Arial\", 16, \"bold\"))\n",
    "# Hide the turtle after drawing\n",
    "my_turtle.hideturtle()\n"
   ]
  }
 ],
 "metadata": {
  "kernelspec": {
   "display_name": "hs_python1",
   "language": "python",
   "name": "python3"
  },
  "language_info": {
   "codemirror_mode": {
    "name": "ipython",
    "version": 3
   },
   "file_extension": ".py",
   "mimetype": "text/x-python",
   "name": "python",
   "nbconvert_exporter": "python",
   "pygments_lexer": "ipython3",
   "version": "3.12.5"
  }
 },
 "nbformat": 4,
 "nbformat_minor": 2
}
