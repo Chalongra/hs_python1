{
 "cells": [
  {
   "cell_type": "code",
   "execution_count": 2,
   "metadata": {},
   "outputs": [
    {
     "name": "stdout",
     "output_type": "stream",
     "text": [
      "4\n"
     ]
    }
   ],
   "source": [
    "total_hero = int(input())\n",
    "sum_of_hero = 0\n",
    "sum_of_missing_hero = 0\n",
    "for item in range(1, total_hero):\n",
    "    hero = int(input())\n",
    "    sum_of_missing_hero = sum_of_missing_hero + hero\n",
    "for item in range(1, total_hero + 1):\n",
    "    sum_of_hero = item + sum_of_hero\n",
    "print(sum_of_hero - sum_of_missing_hero)\n"
   ]
  },
  {
   "cell_type": "markdown",
   "metadata": {},
   "source": [
    "Bob recently missed his first arithmetic lesson. Therefore, he thinks that the sum of 1\n",
    " and 2\n",
    " is equal to 12\n",
    ", the sum of 12\n",
    " and 345\n",
    " is equal to 12345\n",
    ". That is, instead of the correct addition, he concatenates the given numbers as strings.\n",
    "\n",
    "You are given two positive integers 𝑎\n",
    " and 𝑏\n",
    ". Print two results of 𝑎+𝑏\n",
    ": the one that Bob got and the correct one.\n",
    "\n",
    "Input\n",
    "The first line contains a positive integer 𝑎\n",
    " and the second line contains a positive integer 𝑏\n",
    " (1≤𝑎,𝑏≤1000\n",
    ").\n",
    "\n",
    "Output\n",
    "In the single line print two space-separated integers — the results of 𝑎+𝑏\n",
    ". The one that Bob got and the correct one."
   ]
  },
  {
   "cell_type": "code",
   "execution_count": 6,
   "metadata": {},
   "outputs": [
    {
     "name": "stdout",
     "output_type": "stream",
     "text": [
      "22  4\n"
     ]
    }
   ],
   "source": [
    "connect_number = input() \n",
    "connect_number2 = input()\n",
    "plus1 = int(connect_number)\n",
    "plus2 = int(connect_number2)\n",
    "print(connect_number + connect_number2 ,'',plus1 + plus2)"
   ]
  },
  {
   "cell_type": "code",
   "execution_count": 7,
   "metadata": {},
   "outputs": [
    {
     "name": "stdout",
     "output_type": "stream",
     "text": [
      "e\n"
     ]
    }
   ],
   "source": [
    "position_letter = input()\n",
    "position_number = int(input())\n",
    "print(position_letter[position_number - 1])\n"
   ]
  },
  {
   "cell_type": "code",
   "execution_count": 8,
   "metadata": {},
   "outputs": [
    {
     "name": "stdout",
     "output_type": "stream",
     "text": [
      "2234\n"
     ]
    }
   ],
   "source": [
    "s = input()\n",
    "\n",
    "# Read the character a\n",
    "a = input()\n",
    "\n",
    "# Find the middle index of the string\n",
    "middle = len(s) // 2\n",
    "\n",
    "# Create the new string by inserting the character a in the middle\n",
    "result = s[:middle] + a + s[middle:]\n",
    "\n",
    "# Print the resulting string\n",
    "print(result)"
   ]
  },
  {
   "cell_type": "code",
   "execution_count": 9,
   "metadata": {},
   "outputs": [
    {
     "name": "stdout",
     "output_type": "stream",
     "text": [
      "llhe\n"
     ]
    }
   ],
   "source": [
    "s = input()\n",
    "middle = (len(s)) // 2\n",
    "print(s[middle:] + s[:middle])"
   ]
  },
  {
   "cell_type": "code",
   "execution_count": 22,
   "metadata": {},
   "outputs": [
    {
     "name": "stdout",
     "output_type": "stream",
     "text": [
      "123\n"
     ]
    }
   ],
   "source": [
    "s = input()\n",
    "middle = (len(s)) // 2\n",
    "print(s[middle - 1] + s[middle] + s[middle + 1])"
   ]
  },
  {
   "cell_type": "code",
   "execution_count": 23,
   "metadata": {},
   "outputs": [
    {
     "name": "stdout",
     "output_type": "stream",
     "text": [
      "1\n",
      "2\n",
      "3\n",
      "4\n",
      "5\n"
     ]
    }
   ],
   "source": [
    "s = input()\n",
    "for i in range(len(s)):\n",
    "    print(s[i])"
   ]
  },
  {
   "cell_type": "code",
   "execution_count": 24,
   "metadata": {},
   "outputs": [
    {
     "name": "stdout",
     "output_type": "stream",
     "text": [
      "1\n"
     ]
    }
   ],
   "source": [
    "s = input()\n",
    "respectfulness = s.count('f')\n",
    "print(respectfulness)"
   ]
  }
 ],
 "metadata": {
  "kernelspec": {
   "display_name": "hs_python1",
   "language": "python",
   "name": "python3"
  },
  "language_info": {
   "codemirror_mode": {
    "name": "ipython",
    "version": 3
   },
   "file_extension": ".py",
   "mimetype": "text/x-python",
   "name": "python",
   "nbconvert_exporter": "python",
   "pygments_lexer": "ipython3",
   "version": "3.12.5"
  }
 },
 "nbformat": 4,
 "nbformat_minor": 2
}
