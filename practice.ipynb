{
 "cells": [
  {
   "cell_type": "markdown",
   "metadata": {},
   "source": [
    "Practice: Write a program that asks the user for their name and age, then prints a message like \"Hello John, you are 25 years old.\""
   ]
  },
  {
   "cell_type": "code",
   "execution_count": 8,
   "metadata": {},
   "outputs": [
    {
     "name": "stdout",
     "output_type": "stream",
     "text": [
      "hello Baipai , you are 22 years old.\n"
     ]
    }
   ],
   "source": [
    "user_name = input('enter your name')\n",
    "user_age = int(input('enter your age'))\n",
    "print('hello', user_name, ', you are', user_age, 'years old.')"
   ]
  },
  {
   "cell_type": "markdown",
   "metadata": {},
   "source": [
    "Write a program that asks the user for their first name, last name, and age, then prints:\n",
    "Hello, John Doe! You are 25 years old."
   ]
  },
  {
   "cell_type": "code",
   "execution_count": 12,
   "metadata": {},
   "outputs": [
    {
     "name": "stdout",
     "output_type": "stream",
     "text": [
      "Hello, Bp ! You are 22 years old.\n"
     ]
    }
   ],
   "source": [
    "user_name = input('enter your full-name')\n",
    "user_age = int(input('enter your age'))\n",
    "print('Hello,', user_name,'! You are', user_age, 'years old.')"
   ]
  },
  {
   "cell_type": "markdown",
   "metadata": {},
   "source": [
    "You are given an integer 𝑛\n",
    ". Print 𝑛+1\n",
    ".\n",
    "\n",
    "Input\n",
    "The only line contains an integer 𝑛\n",
    " (−1000≤𝑛≤1000)."
   ]
  },
  {
   "cell_type": "code",
   "execution_count": 15,
   "metadata": {},
   "outputs": [
    {
     "name": "stdout",
     "output_type": "stream",
     "text": [
      "-4\n"
     ]
    }
   ],
   "source": [
    "n = int(input('input an integer'))\n",
    "print(n+1)"
   ]
  },
  {
   "cell_type": "markdown",
   "metadata": {},
   "source": [
    "You are given three positive integers 𝑎\n",
    ", 𝑏\n",
    " and 𝑐\n",
    " which are the sides of the triangle. Print the perimeter of this triangle.\n",
    "\n",
    "Input\n",
    "The first line contains a positive integer 𝑎\n",
    ", the second line contains a positive integer 𝑏\n",
    " and the third line contains a positive integer 𝑐\n",
    " (1≤𝑎,𝑏,𝑐≤1000\n",
    ")."
   ]
  },
  {
   "cell_type": "code",
   "execution_count": 16,
   "metadata": {},
   "outputs": [
    {
     "name": "stdout",
     "output_type": "stream",
     "text": [
      "18\n"
     ]
    }
   ],
   "source": [
    "a = int(input())\n",
    "b = int(input())\n",
    "c = int(input())\n",
    "result = a + b + c\n",
    "print(result)"
   ]
  },
  {
   "cell_type": "markdown",
   "metadata": {},
   "source": [
    "You are given two positive integers 𝑎\n",
    ", 𝑏\n",
    " which are the sides of the rectangle. Print the area of this rectangle.\n",
    "\n",
    "Input\n",
    "The first line contains a positive integer 𝑎\n",
    " and the second line contains a positive integer 𝑏\n",
    " (1≤𝑎,𝑏≤1000)\n",
    "."
   ]
  },
  {
   "cell_type": "code",
   "execution_count": 17,
   "metadata": {},
   "outputs": [
    {
     "name": "stdout",
     "output_type": "stream",
     "text": [
      "12\n"
     ]
    }
   ],
   "source": [
    "a = int(input())\n",
    "b = int(input())\n",
    "result = a * b\n",
    "print(result)"
   ]
  },
  {
   "cell_type": "markdown",
   "metadata": {},
   "source": [
    "The supervisor brought some apples to the programming camp and wants to distribute them among the students. You are given two positive integers 𝑛\n",
    " and 𝑚\n",
    ", where 𝑛\n",
    " is a number of apples and 𝑚\n",
    " is a number of students. The supervisor wants to distribute apples evenly so that every student gets the same number of apples. At the same time, he wants this number to be as large as possible. Your task is to calculate the number of apples each students gets after such distribution.\n",
    "\n",
    "Input\n",
    "The first line contains a positive integer 𝑛\n",
    " (1≤𝑛≤1000\n",
    ") — the number of apples.\n",
    "\n",
    "The second line contains a positive integer 𝑚\n",
    " (1≤𝑚≤1000\n",
    ") — the number of students in the camp.\n",
    "\n",
    "Output\n",
    "Output a single positive integer — the number of apples each students gets after an even distribution of apples."
   ]
  },
  {
   "cell_type": "code",
   "execution_count": 19,
   "metadata": {},
   "outputs": [
    {
     "name": "stdout",
     "output_type": "stream",
     "text": [
      "2.3333333333333335\n"
     ]
    }
   ],
   "source": [
    "n = int(input())\n",
    "m = int(input())\n",
    "result = n // m\n",
    "print(result)"
   ]
  },
  {
   "cell_type": "code",
   "execution_count": 20,
   "metadata": {},
   "outputs": [
    {
     "name": "stdout",
     "output_type": "stream",
     "text": [
      "1\n"
     ]
    }
   ],
   "source": [
    "n = int(input())\n",
    "m = int(input())\n",
    "result = n % m\n",
    "print(result)"
   ]
  },
  {
   "cell_type": "code",
   "execution_count": 21,
   "metadata": {},
   "outputs": [
    {
     "name": "stdout",
     "output_type": "stream",
     "text": [
      "3\n"
     ]
    }
   ],
   "source": [
    "p = int(input())\n",
    "discount_percentage = p % 10\n",
    "print(discount_percentage)"
   ]
  },
  {
   "cell_type": "code",
   "execution_count": 22,
   "metadata": {},
   "outputs": [
    {
     "name": "stdout",
     "output_type": "stream",
     "text": [
      "3\n"
     ]
    }
   ],
   "source": [
    "n = int(input())\n",
    "floor_number = n // 10\n",
    "print(floor_number)"
   ]
  },
  {
   "cell_type": "markdown",
   "metadata": {},
   "source": [
    "Bob has just found a garden with 𝑛\n",
    " magical flowers. Bob knows that every day the number of magical flowers triples. He is interested in the number of magical flowers in the garden if he comes back 𝑘\n",
    " days later.\n",
    "\n",
    "Input\n",
    "The first line contains a positive integer 𝑛\n",
    " (1≤𝑛≤100\n",
    ") — the current number of magical flowers .\n",
    "\n",
    "The second line contains a positive integer 𝑘\n",
    " (1≤𝑘≤10\n",
    ") — the number of days after which Bob plans to visit the garden again.\n",
    "\n"
   ]
  },
  {
   "cell_type": "code",
   "execution_count": null,
   "metadata": {},
   "outputs": [],
   "source": [
    "n = int(input())\n",
    "k = int(input())\n",
    "final_number_of_flowers = n * (3 ** k)\n",
    "print(final_number_of_flowers)\n",
    "\n"
   ]
  },
  {
   "cell_type": "markdown",
   "metadata": {},
   "source": [
    "Bob's favorite restaurant is open from 5\n",
    "pm to 9\n",
    "pm (inclusive).\n",
    "\n",
    "It is currently ℎ\n",
    "pm.\n",
    "\n",
    "Print \"OPEN\" if the restaurant is open right now, and print \"CLOSED\" otherwise.\n",
    "\n",
    "Input\n",
    "The only line of input contains a single positive integer ℎ\n",
    " (1≤ℎ≤11\n",
    ") — the current time (ℎ\n",
    "pm).\n",
    "\n",
    "Output\n",
    "Print \"OPEN\" if Bob's favorite restaurant is open right now, and print \"CLOSED\" otherwise."
   ]
  },
  {
   "cell_type": "code",
   "execution_count": null,
   "metadata": {},
   "outputs": [],
   "source": []
  }
 ],
 "metadata": {
  "kernelspec": {
   "display_name": "hs_python1",
   "language": "python",
   "name": "python3"
  },
  "language_info": {
   "codemirror_mode": {
    "name": "ipython",
    "version": 3
   },
   "file_extension": ".py",
   "mimetype": "text/x-python",
   "name": "python",
   "nbconvert_exporter": "python",
   "pygments_lexer": "ipython3",
   "version": "3.12.5"
  }
 },
 "nbformat": 4,
 "nbformat_minor": 2
}
