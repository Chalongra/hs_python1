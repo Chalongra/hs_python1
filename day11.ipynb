{
 "cells": [
  {
   "cell_type": "code",
   "execution_count": 1,
   "metadata": {},
   "outputs": [
    {
     "name": "stdout",
     "output_type": "stream",
     "text": [
      "1\n"
     ]
    }
   ],
   "source": [
    "n = int(input())  \n",
    "\n",
    "a = list(map(int, input().split()))\n",
    "\n",
    "distinct_elements = set(a)\n",
    "\n",
    "print(len(distinct_elements))"
   ]
  },
  {
   "cell_type": "code",
   "execution_count": 3,
   "metadata": {},
   "outputs": [
    {
     "name": "stdout",
     "output_type": "stream",
     "text": [
      "YES\n"
     ]
    }
   ],
   "source": [
    "n = int(input())\n",
    "\n",
    "# Read the list of integers\n",
    "a = list(map(int, input().split()))\n",
    "\n",
    "# Iterate through the list and check adjacent elements\n",
    "for i in range(n - 1):\n",
    "    if a[i] > 0 and a[i + 1] > 0:  # Check if both are positive\n",
    "        print(\"YES\")\n",
    "        break\n",
    "    elif a[i] < 0 and a[i + 1] < 0:  # Check if both are negative\n",
    "        print(\"YES\")\n",
    "        break\n",
    "else:\n",
    "    # If no pair with the same sign is found, print NO\n",
    "    print(\"NO\")"
   ]
  }
 ],
 "metadata": {
  "kernelspec": {
   "display_name": "hs_python1",
   "language": "python",
   "name": "python3"
  },
  "language_info": {
   "codemirror_mode": {
    "name": "ipython",
    "version": 3
   },
   "file_extension": ".py",
   "mimetype": "text/x-python",
   "name": "python",
   "nbconvert_exporter": "python",
   "pygments_lexer": "ipython3",
   "version": "3.12.5"
  }
 },
 "nbformat": 4,
 "nbformat_minor": 2
}
